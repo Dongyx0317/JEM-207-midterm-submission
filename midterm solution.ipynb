{
 "cells": [
  {
   "cell_type": "markdown",
   "id": "99849e00-d8b5-42df-b86d-2044d5765227",
   "metadata": {},
   "source": [
    "import pandas as pd\n",
    "df_abmd = pd.read_csv('/Users/dongyuxin/Downloads/justynaCase/ABMD.csv')\n",
    "df_abbv= pd.read_csv('/Users/dongyuxin/Downloads/justynaCase/ABBV.csv')\n",
    "df_abc= pd.read_csv('/Users/dongyuxin/Downloads/justynaCase/ABC.csv')\n",
    "df_aapl= pd.read_csv('/Users/dongyuxin/Downloads/justynaCase/AAPL.csv')"
   ]
  },
  {
   "cell_type": "code",
   "execution_count": 6,
   "id": "ed594feb-7cb7-491f-9daf-3a5abf7e55b3",
   "metadata": {},
   "outputs": [
    {
     "data": {
      "text/html": [
       "<div>\n",
       "<style scoped>\n",
       "    .dataframe tbody tr th:only-of-type {\n",
       "        vertical-align: middle;\n",
       "    }\n",
       "\n",
       "    .dataframe tbody tr th {\n",
       "        vertical-align: top;\n",
       "    }\n",
       "\n",
       "    .dataframe thead th {\n",
       "        text-align: right;\n",
       "    }\n",
       "</style>\n",
       "<table border=\"1\" class=\"dataframe\">\n",
       "  <thead>\n",
       "    <tr style=\"text-align: right;\">\n",
       "      <th></th>\n",
       "      <th>Date</th>\n",
       "      <th>High</th>\n",
       "      <th>Low</th>\n",
       "      <th>Open</th>\n",
       "      <th>Close</th>\n",
       "      <th>Volume</th>\n",
       "      <th>Adj Close</th>\n",
       "    </tr>\n",
       "  </thead>\n",
       "  <tbody>\n",
       "    <tr>\n",
       "      <th>0</th>\n",
       "      <td>2017-11-13</td>\n",
       "      <td>196.000000</td>\n",
       "      <td>193.360001</td>\n",
       "      <td>193.360001</td>\n",
       "      <td>195.130005</td>\n",
       "      <td>464600</td>\n",
       "      <td>195.130005</td>\n",
       "    </tr>\n",
       "    <tr>\n",
       "      <th>1</th>\n",
       "      <td>2017-11-14</td>\n",
       "      <td>196.080002</td>\n",
       "      <td>193.110001</td>\n",
       "      <td>195.000000</td>\n",
       "      <td>193.750000</td>\n",
       "      <td>343900</td>\n",
       "      <td>193.750000</td>\n",
       "    </tr>\n",
       "    <tr>\n",
       "      <th>2</th>\n",
       "      <td>2017-11-15</td>\n",
       "      <td>194.169998</td>\n",
       "      <td>190.070007</td>\n",
       "      <td>193.610001</td>\n",
       "      <td>193.110001</td>\n",
       "      <td>342000</td>\n",
       "      <td>193.110001</td>\n",
       "    </tr>\n",
       "    <tr>\n",
       "      <th>3</th>\n",
       "      <td>2017-11-16</td>\n",
       "      <td>196.479996</td>\n",
       "      <td>193.360001</td>\n",
       "      <td>193.789993</td>\n",
       "      <td>194.910004</td>\n",
       "      <td>291600</td>\n",
       "      <td>194.910004</td>\n",
       "    </tr>\n",
       "    <tr>\n",
       "      <th>4</th>\n",
       "      <td>2017-11-17</td>\n",
       "      <td>194.880005</td>\n",
       "      <td>191.440002</td>\n",
       "      <td>194.559998</td>\n",
       "      <td>194.320007</td>\n",
       "      <td>448800</td>\n",
       "      <td>194.320007</td>\n",
       "    </tr>\n",
       "  </tbody>\n",
       "</table>\n",
       "</div>"
      ],
      "text/plain": [
       "         Date        High         Low        Open       Close  Volume  \\\n",
       "0  2017-11-13  196.000000  193.360001  193.360001  195.130005  464600   \n",
       "1  2017-11-14  196.080002  193.110001  195.000000  193.750000  343900   \n",
       "2  2017-11-15  194.169998  190.070007  193.610001  193.110001  342000   \n",
       "3  2017-11-16  196.479996  193.360001  193.789993  194.910004  291600   \n",
       "4  2017-11-17  194.880005  191.440002  194.559998  194.320007  448800   \n",
       "\n",
       "    Adj Close  \n",
       "0  195.130005  \n",
       "1  193.750000  \n",
       "2  193.110001  \n",
       "3  194.910004  \n",
       "4  194.320007  "
      ]
     },
     "execution_count": 6,
     "metadata": {},
     "output_type": "execute_result"
    }
   ],
   "source": [
    "df_abmd.head()"
   ]
  },
  {
   "cell_type": "code",
   "execution_count": 9,
   "id": "7922ce90-8dd9-4b8d-be27-d632024ed8c0",
   "metadata": {
    "collapsed": true,
    "jupyter": {
     "outputs_hidden": true
    },
    "tags": []
   },
   "outputs": [
    {
     "data": {
      "text/plain": [
       "0       True\n",
       "1       True\n",
       "2       True\n",
       "3       True\n",
       "4       True\n",
       "        ... \n",
       "1254    True\n",
       "1255    True\n",
       "1256    True\n",
       "1257    True\n",
       "1258    True\n",
       "Length: 1259, dtype: bool"
      ]
     },
     "execution_count": 9,
     "metadata": {},
     "output_type": "execute_result"
    }
   ],
   "source": [
    "df_abmd['Close'] == df_abmd['Adj Close']"
   ]
  },
  {
   "cell_type": "code",
   "execution_count": 10,
   "id": "54ccc626-4e1c-4067-8956-a32d738ea282",
   "metadata": {
    "collapsed": true,
    "jupyter": {
     "outputs_hidden": true
    },
    "tags": []
   },
   "outputs": [
    {
     "data": {
      "text/plain": [
       "0       False\n",
       "1       False\n",
       "2       False\n",
       "3       False\n",
       "4       False\n",
       "        ...  \n",
       "1254     True\n",
       "1255     True\n",
       "1256     True\n",
       "1257     True\n",
       "1258     True\n",
       "Length: 1259, dtype: bool"
      ]
     },
     "execution_count": 10,
     "metadata": {},
     "output_type": "execute_result"
    }
   ],
   "source": [
    "df_abbv['Close'] == df_abbv['Adj Close']"
   ]
  },
  {
   "cell_type": "code",
   "execution_count": 11,
   "id": "aca7e844-9725-41c9-99f3-d7e317dd1edf",
   "metadata": {
    "collapsed": true,
    "jupyter": {
     "outputs_hidden": true
    },
    "tags": []
   },
   "outputs": [
    {
     "data": {
      "text/plain": [
       "0       False\n",
       "1       False\n",
       "2       False\n",
       "3       False\n",
       "4       False\n",
       "        ...  \n",
       "1254    False\n",
       "1255    False\n",
       "1256    False\n",
       "1257     True\n",
       "1258     True\n",
       "Length: 1259, dtype: bool"
      ]
     },
     "execution_count": 11,
     "metadata": {},
     "output_type": "execute_result"
    }
   ],
   "source": [
    "df_abc['Close'] == df_abc['Adj Close']"
   ]
  },
  {
   "cell_type": "code",
   "execution_count": 12,
   "id": "40dc4e5d-4d2b-4fff-916b-a285d68f092d",
   "metadata": {
    "collapsed": true,
    "jupyter": {
     "outputs_hidden": true
    },
    "tags": []
   },
   "outputs": [
    {
     "data": {
      "text/plain": [
       "0       False\n",
       "1       False\n",
       "2       False\n",
       "3       False\n",
       "4       False\n",
       "        ...  \n",
       "1254     True\n",
       "1255     True\n",
       "1256     True\n",
       "1257     True\n",
       "1258     True\n",
       "Length: 1259, dtype: bool"
      ]
     },
     "execution_count": 12,
     "metadata": {},
     "output_type": "execute_result"
    }
   ],
   "source": [
    "df_aapl['Close'] == df_aapl['Adj Close']"
   ]
  },
  {
   "cell_type": "code",
   "execution_count": null,
   "id": "d12181af-9e5e-4ce1-a4eb-d5793325fb90",
   "metadata": {},
   "outputs": [],
   "source": []
  },
  {
   "cell_type": "markdown",
   "id": "4324c6a9-a41b-4277-a856-a2185bb9acae",
   "metadata": {},
   "source": [
    "Answer 1:There is no difference between Close and Adj Close column in company ABMD"
   ]
  },
  {
   "cell_type": "code",
   "execution_count": 26,
   "id": "39527c9c-289c-40fc-8730-6551a6af647f",
   "metadata": {
    "tags": []
   },
   "outputs": [
    {
     "data": {
      "text/html": [
       "<div>\n",
       "<style scoped>\n",
       "    .dataframe tbody tr th:only-of-type {\n",
       "        vertical-align: middle;\n",
       "    }\n",
       "\n",
       "    .dataframe tbody tr th {\n",
       "        vertical-align: top;\n",
       "    }\n",
       "\n",
       "    .dataframe thead th {\n",
       "        text-align: right;\n",
       "    }\n",
       "</style>\n",
       "<table border=\"1\" class=\"dataframe\">\n",
       "  <thead>\n",
       "    <tr style=\"text-align: right;\">\n",
       "      <th></th>\n",
       "      <th>Date</th>\n",
       "      <th>High</th>\n",
       "      <th>Low</th>\n",
       "      <th>Open</th>\n",
       "      <th>Close</th>\n",
       "      <th>Volume</th>\n",
       "      <th>Adj Close</th>\n",
       "    </tr>\n",
       "  </thead>\n",
       "  <tbody>\n",
       "    <tr>\n",
       "      <th>590</th>\n",
       "      <td>2020-03-20</td>\n",
       "      <td>143.869995</td>\n",
       "      <td>130.009995</td>\n",
       "      <td>142.130005</td>\n",
       "      <td>130.509995</td>\n",
       "      <td>848800</td>\n",
       "      <td>130.509995</td>\n",
       "    </tr>\n",
       "    <tr>\n",
       "      <th>591</th>\n",
       "      <td>2020-03-23</td>\n",
       "      <td>134.740005</td>\n",
       "      <td>119.010002</td>\n",
       "      <td>132.389999</td>\n",
       "      <td>132.339996</td>\n",
       "      <td>1296500</td>\n",
       "      <td>132.339996</td>\n",
       "    </tr>\n",
       "    <tr>\n",
       "      <th>584</th>\n",
       "      <td>2020-03-12</td>\n",
       "      <td>149.429993</td>\n",
       "      <td>135.770004</td>\n",
       "      <td>143.070007</td>\n",
       "      <td>136.970001</td>\n",
       "      <td>1060800</td>\n",
       "      <td>136.970001</td>\n",
       "    </tr>\n",
       "    <tr>\n",
       "      <th>589</th>\n",
       "      <td>2020-03-19</td>\n",
       "      <td>145.949997</td>\n",
       "      <td>135.460007</td>\n",
       "      <td>142.410004</td>\n",
       "      <td>140.509995</td>\n",
       "      <td>950600</td>\n",
       "      <td>140.509995</td>\n",
       "    </tr>\n",
       "    <tr>\n",
       "      <th>600</th>\n",
       "      <td>2020-04-03</td>\n",
       "      <td>145.699997</td>\n",
       "      <td>140.820007</td>\n",
       "      <td>142.380005</td>\n",
       "      <td>141.399994</td>\n",
       "      <td>440800</td>\n",
       "      <td>141.399994</td>\n",
       "    </tr>\n",
       "    <tr>\n",
       "      <th>...</th>\n",
       "      <td>...</td>\n",
       "      <td>...</td>\n",
       "      <td>...</td>\n",
       "      <td>...</td>\n",
       "      <td>...</td>\n",
       "      <td>...</td>\n",
       "      <td>...</td>\n",
       "    </tr>\n",
       "    <tr>\n",
       "      <th>147</th>\n",
       "      <td>2018-06-15</td>\n",
       "      <td>445.450012</td>\n",
       "      <td>435.480011</td>\n",
       "      <td>441.000000</td>\n",
       "      <td>443.579987</td>\n",
       "      <td>799000</td>\n",
       "      <td>443.579987</td>\n",
       "    </tr>\n",
       "    <tr>\n",
       "      <th>221</th>\n",
       "      <td>2018-10-01</td>\n",
       "      <td>459.750000</td>\n",
       "      <td>442.929993</td>\n",
       "      <td>452.899994</td>\n",
       "      <td>444.250000</td>\n",
       "      <td>526300</td>\n",
       "      <td>444.250000</td>\n",
       "    </tr>\n",
       "    <tr>\n",
       "      <th>218</th>\n",
       "      <td>2018-09-26</td>\n",
       "      <td>454.000000</td>\n",
       "      <td>438.519989</td>\n",
       "      <td>443.489990</td>\n",
       "      <td>444.700012</td>\n",
       "      <td>914000</td>\n",
       "      <td>444.700012</td>\n",
       "    </tr>\n",
       "    <tr>\n",
       "      <th>150</th>\n",
       "      <td>2018-06-20</td>\n",
       "      <td>450.929993</td>\n",
       "      <td>441.100006</td>\n",
       "      <td>441.100006</td>\n",
       "      <td>446.209991</td>\n",
       "      <td>583000</td>\n",
       "      <td>446.209991</td>\n",
       "    </tr>\n",
       "    <tr>\n",
       "      <th>220</th>\n",
       "      <td>2018-09-28</td>\n",
       "      <td>455.399994</td>\n",
       "      <td>441.000000</td>\n",
       "      <td>441.290009</td>\n",
       "      <td>449.750000</td>\n",
       "      <td>696400</td>\n",
       "      <td>449.750000</td>\n",
       "    </tr>\n",
       "  </tbody>\n",
       "</table>\n",
       "<p>1259 rows × 7 columns</p>\n",
       "</div>"
      ],
      "text/plain": [
       "           Date        High         Low        Open       Close   Volume  \\\n",
       "590  2020-03-20  143.869995  130.009995  142.130005  130.509995   848800   \n",
       "591  2020-03-23  134.740005  119.010002  132.389999  132.339996  1296500   \n",
       "584  2020-03-12  149.429993  135.770004  143.070007  136.970001  1060800   \n",
       "589  2020-03-19  145.949997  135.460007  142.410004  140.509995   950600   \n",
       "600  2020-04-03  145.699997  140.820007  142.380005  141.399994   440800   \n",
       "..          ...         ...         ...         ...         ...      ...   \n",
       "147  2018-06-15  445.450012  435.480011  441.000000  443.579987   799000   \n",
       "221  2018-10-01  459.750000  442.929993  452.899994  444.250000   526300   \n",
       "218  2018-09-26  454.000000  438.519989  443.489990  444.700012   914000   \n",
       "150  2018-06-20  450.929993  441.100006  441.100006  446.209991   583000   \n",
       "220  2018-09-28  455.399994  441.000000  441.290009  449.750000   696400   \n",
       "\n",
       "      Adj Close  \n",
       "590  130.509995  \n",
       "591  132.339996  \n",
       "584  136.970001  \n",
       "589  140.509995  \n",
       "600  141.399994  \n",
       "..          ...  \n",
       "147  443.579987  \n",
       "221  444.250000  \n",
       "218  444.700012  \n",
       "150  446.209991  \n",
       "220  449.750000  \n",
       "\n",
       "[1259 rows x 7 columns]"
      ]
     },
     "execution_count": 26,
     "metadata": {},
     "output_type": "execute_result"
    }
   ],
   "source": [
    "df_abmd.sort_values('Adj Close',ascending = True)\n"
   ]
  },
  {
   "cell_type": "code",
   "execution_count": 20,
   "id": "cf691fd8-135e-49fa-901f-d621d632c431",
   "metadata": {
    "tags": []
   },
   "outputs": [
    {
     "data": {
      "text/html": [
       "<div>\n",
       "<style scoped>\n",
       "    .dataframe tbody tr th:only-of-type {\n",
       "        vertical-align: middle;\n",
       "    }\n",
       "\n",
       "    .dataframe tbody tr th {\n",
       "        vertical-align: top;\n",
       "    }\n",
       "\n",
       "    .dataframe thead th {\n",
       "        text-align: right;\n",
       "    }\n",
       "</style>\n",
       "<table border=\"1\" class=\"dataframe\">\n",
       "  <thead>\n",
       "    <tr style=\"text-align: right;\">\n",
       "      <th></th>\n",
       "      <th>Date</th>\n",
       "      <th>High</th>\n",
       "      <th>Low</th>\n",
       "      <th>Open</th>\n",
       "      <th>Close</th>\n",
       "      <th>Volume</th>\n",
       "      <th>Adj Close</th>\n",
       "    </tr>\n",
       "  </thead>\n",
       "  <tbody>\n",
       "    <tr>\n",
       "      <th>440</th>\n",
       "      <td>2019-08-15</td>\n",
       "      <td>64.239998</td>\n",
       "      <td>62.660000</td>\n",
       "      <td>64.120003</td>\n",
       "      <td>62.980000</td>\n",
       "      <td>9195700.0</td>\n",
       "      <td>54.021832</td>\n",
       "    </tr>\n",
       "    <tr>\n",
       "      <th>439</th>\n",
       "      <td>2019-08-14</td>\n",
       "      <td>64.989998</td>\n",
       "      <td>63.500000</td>\n",
       "      <td>64.500000</td>\n",
       "      <td>63.500000</td>\n",
       "      <td>9373300.0</td>\n",
       "      <td>54.467869</td>\n",
       "    </tr>\n",
       "    <tr>\n",
       "      <th>441</th>\n",
       "      <td>2019-08-16</td>\n",
       "      <td>64.809998</td>\n",
       "      <td>63.070000</td>\n",
       "      <td>63.509998</td>\n",
       "      <td>64.430000</td>\n",
       "      <td>8348100.0</td>\n",
       "      <td>55.265583</td>\n",
       "    </tr>\n",
       "    <tr>\n",
       "      <th>434</th>\n",
       "      <td>2019-08-07</td>\n",
       "      <td>64.900002</td>\n",
       "      <td>63.310001</td>\n",
       "      <td>64.379997</td>\n",
       "      <td>64.459999</td>\n",
       "      <td>10532100.0</td>\n",
       "      <td>55.291313</td>\n",
       "    </tr>\n",
       "    <tr>\n",
       "      <th>437</th>\n",
       "      <td>2019-08-12</td>\n",
       "      <td>65.480003</td>\n",
       "      <td>64.080002</td>\n",
       "      <td>65.239998</td>\n",
       "      <td>64.529999</td>\n",
       "      <td>5258900.0</td>\n",
       "      <td>55.351360</td>\n",
       "    </tr>\n",
       "    <tr>\n",
       "      <th>...</th>\n",
       "      <td>...</td>\n",
       "      <td>...</td>\n",
       "      <td>...</td>\n",
       "      <td>...</td>\n",
       "      <td>...</td>\n",
       "      <td>...</td>\n",
       "      <td>...</td>\n",
       "    </tr>\n",
       "    <tr>\n",
       "      <th>1110</th>\n",
       "      <td>2022-04-12</td>\n",
       "      <td>170.559998</td>\n",
       "      <td>166.210007</td>\n",
       "      <td>169.309998</td>\n",
       "      <td>167.309998</td>\n",
       "      <td>8279700.0</td>\n",
       "      <td>162.706985</td>\n",
       "    </tr>\n",
       "    <tr>\n",
       "      <th>1106</th>\n",
       "      <td>2022-04-06</td>\n",
       "      <td>169.270004</td>\n",
       "      <td>163.800003</td>\n",
       "      <td>164.490005</td>\n",
       "      <td>168.910004</td>\n",
       "      <td>8810800.0</td>\n",
       "      <td>164.262970</td>\n",
       "    </tr>\n",
       "    <tr>\n",
       "      <th>1109</th>\n",
       "      <td>2022-04-11</td>\n",
       "      <td>175.039993</td>\n",
       "      <td>169.320007</td>\n",
       "      <td>174.899994</td>\n",
       "      <td>169.830002</td>\n",
       "      <td>8163200.0</td>\n",
       "      <td>165.157654</td>\n",
       "    </tr>\n",
       "    <tr>\n",
       "      <th>1107</th>\n",
       "      <td>2022-04-07</td>\n",
       "      <td>174.589996</td>\n",
       "      <td>167.539993</td>\n",
       "      <td>167.669998</td>\n",
       "      <td>173.279999</td>\n",
       "      <td>7469000.0</td>\n",
       "      <td>168.512726</td>\n",
       "    </tr>\n",
       "    <tr>\n",
       "      <th>1108</th>\n",
       "      <td>2022-04-08</td>\n",
       "      <td>175.910004</td>\n",
       "      <td>172.500000</td>\n",
       "      <td>173.000000</td>\n",
       "      <td>174.960007</td>\n",
       "      <td>7204200.0</td>\n",
       "      <td>170.146515</td>\n",
       "    </tr>\n",
       "  </tbody>\n",
       "</table>\n",
       "<p>1259 rows × 7 columns</p>\n",
       "</div>"
      ],
      "text/plain": [
       "            Date        High         Low        Open       Close      Volume  \\\n",
       "440   2019-08-15   64.239998   62.660000   64.120003   62.980000   9195700.0   \n",
       "439   2019-08-14   64.989998   63.500000   64.500000   63.500000   9373300.0   \n",
       "441   2019-08-16   64.809998   63.070000   63.509998   64.430000   8348100.0   \n",
       "434   2019-08-07   64.900002   63.310001   64.379997   64.459999  10532100.0   \n",
       "437   2019-08-12   65.480003   64.080002   65.239998   64.529999   5258900.0   \n",
       "...          ...         ...         ...         ...         ...         ...   \n",
       "1110  2022-04-12  170.559998  166.210007  169.309998  167.309998   8279700.0   \n",
       "1106  2022-04-06  169.270004  163.800003  164.490005  168.910004   8810800.0   \n",
       "1109  2022-04-11  175.039993  169.320007  174.899994  169.830002   8163200.0   \n",
       "1107  2022-04-07  174.589996  167.539993  167.669998  173.279999   7469000.0   \n",
       "1108  2022-04-08  175.910004  172.500000  173.000000  174.960007   7204200.0   \n",
       "\n",
       "       Adj Close  \n",
       "440    54.021832  \n",
       "439    54.467869  \n",
       "441    55.265583  \n",
       "434    55.291313  \n",
       "437    55.351360  \n",
       "...          ...  \n",
       "1110  162.706985  \n",
       "1106  164.262970  \n",
       "1109  165.157654  \n",
       "1107  168.512726  \n",
       "1108  170.146515  \n",
       "\n",
       "[1259 rows x 7 columns]"
      ]
     },
     "execution_count": 20,
     "metadata": {},
     "output_type": "execute_result"
    }
   ],
   "source": [
    "df_abbv.sort_values('Adj Close',ascending = True)"
   ]
  },
  {
   "cell_type": "code",
   "execution_count": 21,
   "id": "53d164c0-1529-4fed-b8b6-39a5909a4828",
   "metadata": {
    "tags": []
   },
   "outputs": [
    {
     "data": {
      "text/html": [
       "<div>\n",
       "<style scoped>\n",
       "    .dataframe tbody tr th:only-of-type {\n",
       "        vertical-align: middle;\n",
       "    }\n",
       "\n",
       "    .dataframe tbody tr th {\n",
       "        vertical-align: top;\n",
       "    }\n",
       "\n",
       "    .dataframe thead th {\n",
       "        text-align: right;\n",
       "    }\n",
       "</style>\n",
       "<table border=\"1\" class=\"dataframe\">\n",
       "  <thead>\n",
       "    <tr style=\"text-align: right;\">\n",
       "      <th></th>\n",
       "      <th>Date</th>\n",
       "      <th>High</th>\n",
       "      <th>Low</th>\n",
       "      <th>Open</th>\n",
       "      <th>Close</th>\n",
       "      <th>Volume</th>\n",
       "      <th>Adj Close</th>\n",
       "    </tr>\n",
       "  </thead>\n",
       "  <tbody>\n",
       "    <tr>\n",
       "      <th>279</th>\n",
       "      <td>2018-12-24</td>\n",
       "      <td>72.709999</td>\n",
       "      <td>70.629997</td>\n",
       "      <td>71.970001</td>\n",
       "      <td>70.760002</td>\n",
       "      <td>523900.0</td>\n",
       "      <td>66.344460</td>\n",
       "    </tr>\n",
       "    <tr>\n",
       "      <th>359</th>\n",
       "      <td>2019-04-22</td>\n",
       "      <td>72.970001</td>\n",
       "      <td>70.550003</td>\n",
       "      <td>72.430000</td>\n",
       "      <td>71.059998</td>\n",
       "      <td>1270400.0</td>\n",
       "      <td>66.935455</td>\n",
       "    </tr>\n",
       "    <tr>\n",
       "      <th>278</th>\n",
       "      <td>2018-12-21</td>\n",
       "      <td>75.559998</td>\n",
       "      <td>71.550003</td>\n",
       "      <td>73.209999</td>\n",
       "      <td>71.980003</td>\n",
       "      <td>2573600.0</td>\n",
       "      <td>67.488350</td>\n",
       "    </tr>\n",
       "    <tr>\n",
       "      <th>357</th>\n",
       "      <td>2019-04-17</td>\n",
       "      <td>75.790001</td>\n",
       "      <td>71.629997</td>\n",
       "      <td>75.589996</td>\n",
       "      <td>72.300003</td>\n",
       "      <td>1587300.0</td>\n",
       "      <td>68.103493</td>\n",
       "    </tr>\n",
       "    <tr>\n",
       "      <th>358</th>\n",
       "      <td>2019-04-18</td>\n",
       "      <td>72.779999</td>\n",
       "      <td>71.279999</td>\n",
       "      <td>72.300003</td>\n",
       "      <td>72.449997</td>\n",
       "      <td>1431900.0</td>\n",
       "      <td>68.244766</td>\n",
       "    </tr>\n",
       "    <tr>\n",
       "      <th>...</th>\n",
       "      <td>...</td>\n",
       "      <td>...</td>\n",
       "      <td>...</td>\n",
       "      <td>...</td>\n",
       "      <td>...</td>\n",
       "      <td>...</td>\n",
       "      <td>...</td>\n",
       "    </tr>\n",
       "    <tr>\n",
       "      <th>1111</th>\n",
       "      <td>2022-04-13</td>\n",
       "      <td>164.149994</td>\n",
       "      <td>161.369995</td>\n",
       "      <td>162.630005</td>\n",
       "      <td>162.960007</td>\n",
       "      <td>1075400.0</td>\n",
       "      <td>161.464783</td>\n",
       "    </tr>\n",
       "    <tr>\n",
       "      <th>1254</th>\n",
       "      <td>2022-11-07</td>\n",
       "      <td>163.610001</td>\n",
       "      <td>160.550003</td>\n",
       "      <td>161.940002</td>\n",
       "      <td>162.009995</td>\n",
       "      <td>1393600.0</td>\n",
       "      <td>161.513275</td>\n",
       "    </tr>\n",
       "    <tr>\n",
       "      <th>1116</th>\n",
       "      <td>2022-04-21</td>\n",
       "      <td>167.190002</td>\n",
       "      <td>164.110001</td>\n",
       "      <td>165.690002</td>\n",
       "      <td>165.020004</td>\n",
       "      <td>928800.0</td>\n",
       "      <td>163.505875</td>\n",
       "    </tr>\n",
       "    <tr>\n",
       "      <th>1108</th>\n",
       "      <td>2022-04-08</td>\n",
       "      <td>166.899994</td>\n",
       "      <td>163.039993</td>\n",
       "      <td>163.520004</td>\n",
       "      <td>165.440002</td>\n",
       "      <td>2019600.0</td>\n",
       "      <td>163.922028</td>\n",
       "    </tr>\n",
       "    <tr>\n",
       "      <th>1115</th>\n",
       "      <td>2022-04-20</td>\n",
       "      <td>166.470001</td>\n",
       "      <td>163.649994</td>\n",
       "      <td>163.649994</td>\n",
       "      <td>165.729996</td>\n",
       "      <td>924300.0</td>\n",
       "      <td>164.209366</td>\n",
       "    </tr>\n",
       "  </tbody>\n",
       "</table>\n",
       "<p>1259 rows × 7 columns</p>\n",
       "</div>"
      ],
      "text/plain": [
       "            Date        High         Low        Open       Close     Volume  \\\n",
       "279   2018-12-24   72.709999   70.629997   71.970001   70.760002   523900.0   \n",
       "359   2019-04-22   72.970001   70.550003   72.430000   71.059998  1270400.0   \n",
       "278   2018-12-21   75.559998   71.550003   73.209999   71.980003  2573600.0   \n",
       "357   2019-04-17   75.790001   71.629997   75.589996   72.300003  1587300.0   \n",
       "358   2019-04-18   72.779999   71.279999   72.300003   72.449997  1431900.0   \n",
       "...          ...         ...         ...         ...         ...        ...   \n",
       "1111  2022-04-13  164.149994  161.369995  162.630005  162.960007  1075400.0   \n",
       "1254  2022-11-07  163.610001  160.550003  161.940002  162.009995  1393600.0   \n",
       "1116  2022-04-21  167.190002  164.110001  165.690002  165.020004   928800.0   \n",
       "1108  2022-04-08  166.899994  163.039993  163.520004  165.440002  2019600.0   \n",
       "1115  2022-04-20  166.470001  163.649994  163.649994  165.729996   924300.0   \n",
       "\n",
       "       Adj Close  \n",
       "279    66.344460  \n",
       "359    66.935455  \n",
       "278    67.488350  \n",
       "357    68.103493  \n",
       "358    68.244766  \n",
       "...          ...  \n",
       "1111  161.464783  \n",
       "1254  161.513275  \n",
       "1116  163.505875  \n",
       "1108  163.922028  \n",
       "1115  164.209366  \n",
       "\n",
       "[1259 rows x 7 columns]"
      ]
     },
     "execution_count": 21,
     "metadata": {},
     "output_type": "execute_result"
    }
   ],
   "source": [
    "df_abc.sort_values('Adj Close',ascending = True)"
   ]
  },
  {
   "cell_type": "code",
   "execution_count": 23,
   "id": "1713f8e9-c97c-40a9-8c9e-7c7a877e8e2a",
   "metadata": {
    "collapsed": true,
    "jupyter": {
     "outputs_hidden": true
    },
    "tags": []
   },
   "outputs": [
    {
     "data": {
      "text/html": [
       "<div>\n",
       "<style scoped>\n",
       "    .dataframe tbody tr th:only-of-type {\n",
       "        vertical-align: middle;\n",
       "    }\n",
       "\n",
       "    .dataframe tbody tr th {\n",
       "        vertical-align: top;\n",
       "    }\n",
       "\n",
       "    .dataframe thead th {\n",
       "        text-align: right;\n",
       "    }\n",
       "</style>\n",
       "<table border=\"1\" class=\"dataframe\">\n",
       "  <thead>\n",
       "    <tr style=\"text-align: right;\">\n",
       "      <th></th>\n",
       "      <th>Date</th>\n",
       "      <th>High</th>\n",
       "      <th>Low</th>\n",
       "      <th>Open</th>\n",
       "      <th>Close</th>\n",
       "      <th>Volume</th>\n",
       "      <th>Adj Close</th>\n",
       "    </tr>\n",
       "  </thead>\n",
       "  <tbody>\n",
       "    <tr>\n",
       "      <th>285</th>\n",
       "      <td>2019-01-03</td>\n",
       "      <td>36.430000</td>\n",
       "      <td>35.500000</td>\n",
       "      <td>35.994999</td>\n",
       "      <td>35.547501</td>\n",
       "      <td>365248800.0</td>\n",
       "      <td>34.309589</td>\n",
       "    </tr>\n",
       "    <tr>\n",
       "      <th>279</th>\n",
       "      <td>2018-12-24</td>\n",
       "      <td>37.887501</td>\n",
       "      <td>36.647499</td>\n",
       "      <td>37.037498</td>\n",
       "      <td>36.707500</td>\n",
       "      <td>148676800.0</td>\n",
       "      <td>35.429188</td>\n",
       "    </tr>\n",
       "    <tr>\n",
       "      <th>287</th>\n",
       "      <td>2019-01-07</td>\n",
       "      <td>37.207500</td>\n",
       "      <td>36.474998</td>\n",
       "      <td>37.174999</td>\n",
       "      <td>36.982498</td>\n",
       "      <td>219111200.0</td>\n",
       "      <td>35.694607</td>\n",
       "    </tr>\n",
       "    <tr>\n",
       "      <th>286</th>\n",
       "      <td>2019-01-04</td>\n",
       "      <td>37.137501</td>\n",
       "      <td>35.950001</td>\n",
       "      <td>36.132500</td>\n",
       "      <td>37.064999</td>\n",
       "      <td>234428400.0</td>\n",
       "      <td>35.774235</td>\n",
       "    </tr>\n",
       "    <tr>\n",
       "      <th>292</th>\n",
       "      <td>2019-01-14</td>\n",
       "      <td>37.817501</td>\n",
       "      <td>37.305000</td>\n",
       "      <td>37.712502</td>\n",
       "      <td>37.500000</td>\n",
       "      <td>129756800.0</td>\n",
       "      <td>36.194088</td>\n",
       "    </tr>\n",
       "    <tr>\n",
       "      <th>...</th>\n",
       "      <td>...</td>\n",
       "      <td>...</td>\n",
       "      <td>...</td>\n",
       "      <td>...</td>\n",
       "      <td>...</td>\n",
       "      <td>...</td>\n",
       "      <td>...</td>\n",
       "    </tr>\n",
       "    <tr>\n",
       "      <th>1038</th>\n",
       "      <td>2021-12-29</td>\n",
       "      <td>180.630005</td>\n",
       "      <td>178.139999</td>\n",
       "      <td>179.330002</td>\n",
       "      <td>179.380005</td>\n",
       "      <td>62348900.0</td>\n",
       "      <td>178.344925</td>\n",
       "    </tr>\n",
       "    <tr>\n",
       "      <th>1026</th>\n",
       "      <td>2021-12-10</td>\n",
       "      <td>179.630005</td>\n",
       "      <td>174.690002</td>\n",
       "      <td>175.210007</td>\n",
       "      <td>179.449997</td>\n",
       "      <td>115402700.0</td>\n",
       "      <td>178.414520</td>\n",
       "    </tr>\n",
       "    <tr>\n",
       "      <th>1042</th>\n",
       "      <td>2022-01-04</td>\n",
       "      <td>182.940002</td>\n",
       "      <td>179.119995</td>\n",
       "      <td>182.630005</td>\n",
       "      <td>179.699997</td>\n",
       "      <td>99310400.0</td>\n",
       "      <td>178.663071</td>\n",
       "    </tr>\n",
       "    <tr>\n",
       "      <th>1036</th>\n",
       "      <td>2021-12-27</td>\n",
       "      <td>180.419998</td>\n",
       "      <td>177.070007</td>\n",
       "      <td>177.089996</td>\n",
       "      <td>180.330002</td>\n",
       "      <td>74919600.0</td>\n",
       "      <td>179.289444</td>\n",
       "    </tr>\n",
       "    <tr>\n",
       "      <th>1041</th>\n",
       "      <td>2022-01-03</td>\n",
       "      <td>182.880005</td>\n",
       "      <td>177.710007</td>\n",
       "      <td>177.830002</td>\n",
       "      <td>182.009995</td>\n",
       "      <td>104487900.0</td>\n",
       "      <td>180.959732</td>\n",
       "    </tr>\n",
       "  </tbody>\n",
       "</table>\n",
       "<p>1259 rows × 7 columns</p>\n",
       "</div>"
      ],
      "text/plain": [
       "            Date        High         Low        Open       Close       Volume  \\\n",
       "285   2019-01-03   36.430000   35.500000   35.994999   35.547501  365248800.0   \n",
       "279   2018-12-24   37.887501   36.647499   37.037498   36.707500  148676800.0   \n",
       "287   2019-01-07   37.207500   36.474998   37.174999   36.982498  219111200.0   \n",
       "286   2019-01-04   37.137501   35.950001   36.132500   37.064999  234428400.0   \n",
       "292   2019-01-14   37.817501   37.305000   37.712502   37.500000  129756800.0   \n",
       "...          ...         ...         ...         ...         ...          ...   \n",
       "1038  2021-12-29  180.630005  178.139999  179.330002  179.380005   62348900.0   \n",
       "1026  2021-12-10  179.630005  174.690002  175.210007  179.449997  115402700.0   \n",
       "1042  2022-01-04  182.940002  179.119995  182.630005  179.699997   99310400.0   \n",
       "1036  2021-12-27  180.419998  177.070007  177.089996  180.330002   74919600.0   \n",
       "1041  2022-01-03  182.880005  177.710007  177.830002  182.009995  104487900.0   \n",
       "\n",
       "       Adj Close  \n",
       "285    34.309589  \n",
       "279    35.429188  \n",
       "287    35.694607  \n",
       "286    35.774235  \n",
       "292    36.194088  \n",
       "...          ...  \n",
       "1038  178.344925  \n",
       "1026  178.414520  \n",
       "1042  178.663071  \n",
       "1036  179.289444  \n",
       "1041  180.959732  \n",
       "\n",
       "[1259 rows x 7 columns]"
      ]
     },
     "execution_count": 23,
     "metadata": {},
     "output_type": "execute_result"
    }
   ],
   "source": [
    "df_aapl.sort_values('Adj Close',ascending = True)"
   ]
  },
  {
   "cell_type": "markdown",
   "id": "7f889ce4-0c9c-4ca0-9bb7-b55774c67b06",
   "metadata": {},
   "source": [
    "Answer2: ABMD:highest and lowest price (Adj Close):449.750000; 130.509995\n",
    "         ABBV:highest and lowest price (Adj Close):170.146515; 54.021832\n",
    "         ABC:highest and lowest price (Adj Close):164.209366; 66.344460\n",
    "         AAPL:highest and lowest price (Adj Close):180.959732; 34.309589\n",
    "        "
   ]
  },
  {
   "cell_type": "code",
   "execution_count": 33,
   "id": "f546fc1d-dc1d-4cc6-9168-285072e7dd94",
   "metadata": {},
   "outputs": [
    {
     "data": {
      "text/plain": [
       "count    1259.000000\n",
       "mean        5.618517\n",
       "std         0.253474\n",
       "min         4.871450\n",
       "25%         5.521181\n",
       "50%         5.660248\n",
       "75%         5.789731\n",
       "max         6.108692\n",
       "Name: Adj Close, dtype: float64"
      ]
     },
     "execution_count": 33,
     "metadata": {},
     "output_type": "execute_result"
    }
   ],
   "source": [
    "import numpy as np\n",
    "logarithmic_returns1 = np.log(df_abmd['Adj Close'])\n",
    "logarithmic_returns1.describe()"
   ]
  },
  {
   "cell_type": "code",
   "execution_count": 34,
   "id": "de847f45-c60d-4ed7-bf32-5bc6b2cfabd5",
   "metadata": {},
   "outputs": [
    {
     "data": {
      "text/plain": [
       "count    1259.000000\n",
       "mean        4.501442\n",
       "std         0.276713\n",
       "min         3.989388\n",
       "25%         4.306940\n",
       "50%         4.422301\n",
       "75%         4.689019\n",
       "max         5.136660\n",
       "Name: Adj Close, dtype: float64"
      ]
     },
     "execution_count": 34,
     "metadata": {},
     "output_type": "execute_result"
    }
   ],
   "source": [
    "import numpy as np\n",
    "logarithmic_returns1 = np.log(df_abbv['Adj Close'])\n",
    "logarithmic_returns1.describe()"
   ]
  },
  {
   "cell_type": "code",
   "execution_count": 35,
   "id": "d2e41972-e4f0-4974-ae97-d38b8df14eec",
   "metadata": {},
   "outputs": [
    {
     "data": {
      "text/plain": [
       "count    1259.000000\n",
       "mean        4.586290\n",
       "std         0.232838\n",
       "min         4.194860\n",
       "25%         4.400476\n",
       "50%         4.519552\n",
       "75%         4.768891\n",
       "max         5.101142\n",
       "Name: Adj Close, dtype: float64"
      ]
     },
     "execution_count": 35,
     "metadata": {},
     "output_type": "execute_result"
    }
   ],
   "source": [
    "import numpy as np\n",
    "logarithmic_returns1 = np.log(df_abc['Adj Close'])\n",
    "logarithmic_returns1.describe()"
   ]
  },
  {
   "cell_type": "code",
   "execution_count": 36,
   "id": "81e808d7-96f9-4e51-ae17-f8303b96f1aa",
   "metadata": {},
   "outputs": [
    {
     "data": {
      "text/plain": [
       "count    1259.000000\n",
       "mean        4.408633\n",
       "std         0.534165\n",
       "min         3.535425\n",
       "25%         3.877338\n",
       "50%         4.364802\n",
       "75%         4.944377\n",
       "max         5.198275\n",
       "Name: Adj Close, dtype: float64"
      ]
     },
     "execution_count": 36,
     "metadata": {},
     "output_type": "execute_result"
    }
   ],
   "source": [
    "import numpy as np\n",
    "logarithmic_returns1 = np.log(df_aapl['Adj Close'])\n",
    "logarithmic_returns1.describe()"
   ]
  },
  {
   "cell_type": "markdown",
   "id": "ac2826bd-123f-4e21-b170-abd055975632",
   "metadata": {},
   "source": [
    "Ansewer3: the logarithmic returns from Adj Close for each company reports are above"
   ]
  },
  {
   "cell_type": "code",
   "execution_count": 48,
   "id": "18951323-499c-4ee5-9add-646ecc10e92d",
   "metadata": {},
   "outputs": [
    {
     "data": {
      "text/plain": [
       "15.519958496093523"
      ]
     },
     "execution_count": 48,
     "metadata": {},
     "output_type": "execute_result"
    }
   ],
   "source": [
    "return_abmd = df_abmd['Adj Close']- df_abmd['Open']\n",
    "return_abmd.sum()"
   ]
  },
  {
   "cell_type": "code",
   "execution_count": 49,
   "id": "2a20b821-ee2a-4d8c-ab16-71d6f717ef9c",
   "metadata": {},
   "outputs": [
    {
     "data": {
      "text/plain": [
       "-4493.753379821777"
      ]
     },
     "execution_count": 49,
     "metadata": {},
     "output_type": "execute_result"
    }
   ],
   "source": [
    "return_abc = df_abc['Adj Close']- df_abc['Open']\n",
    "return_abc.sum()"
   ]
  },
  {
   "cell_type": "code",
   "execution_count": 50,
   "id": "b411d494-5306-4a21-8792-57686228085d",
   "metadata": {},
   "outputs": [
    {
     "data": {
      "text/plain": [
       "-1582.6297607421866"
      ]
     },
     "execution_count": 50,
     "metadata": {},
     "output_type": "execute_result"
    }
   ],
   "source": [
    "return_aapl = df_aapl['Adj Close']- df_aapl['Open']\n",
    "return_aapl.sum()"
   ]
  },
  {
   "cell_type": "code",
   "execution_count": 51,
   "id": "f02c6468-4881-44c7-b15f-7b426729854d",
   "metadata": {},
   "outputs": [
    {
     "data": {
      "text/plain": [
       "-239403.7234954834"
      ]
     },
     "execution_count": 51,
     "metadata": {},
     "output_type": "execute_result"
    }
   ],
   "source": [
    "return_abbv = df_abbv['Adj Close']- df_abmd['Open']\n",
    "return_abbv.sum()"
   ]
  },
  {
   "cell_type": "markdown",
   "id": "e018e5a8-c867-483f-bb20-60a9bb13aa00",
   "metadata": {},
   "source": [
    "Answer6:abmd"
   ]
  },
  {
   "cell_type": "code",
   "execution_count": 53,
   "id": "827039d3-d233-40a1-b28f-7dd7f58243a6",
   "metadata": {},
   "outputs": [
    {
     "ename": "TypeError",
     "evalue": "Only valid with DatetimeIndex, TimedeltaIndex or PeriodIndex, but got an instance of 'RangeIndex'",
     "output_type": "error",
     "traceback": [
      "\u001b[0;31m---------------------------------------------------------------------------\u001b[0m",
      "\u001b[0;31mTypeError\u001b[0m                                 Traceback (most recent call last)",
      "Input \u001b[0;32mIn [53]\u001b[0m, in \u001b[0;36m<cell line: 1>\u001b[0;34m()\u001b[0m\n\u001b[0;32m----> 1\u001b[0m \u001b[43mdf_abmd\u001b[49m\u001b[43m[\u001b[49m\u001b[38;5;124;43m'\u001b[39;49m\u001b[38;5;124;43mVolume\u001b[39;49m\u001b[38;5;124;43m'\u001b[39;49m\u001b[43m]\u001b[49m\u001b[38;5;241;43m.\u001b[39;49m\u001b[43mresample\u001b[49m\u001b[43m(\u001b[49m\u001b[38;5;124;43m'\u001b[39;49m\u001b[38;5;124;43mw\u001b[39;49m\u001b[38;5;124;43m'\u001b[39;49m\u001b[43m)\u001b[49m\u001b[38;5;241m.\u001b[39mmean\n",
      "File \u001b[0;32m~/opt/anaconda3/lib/python3.9/site-packages/pandas/core/series.py:5428\u001b[0m, in \u001b[0;36mSeries.resample\u001b[0;34m(self, rule, axis, closed, label, convention, kind, loffset, base, on, level, origin, offset)\u001b[0m\n\u001b[1;32m   5412\u001b[0m \u001b[38;5;129m@doc\u001b[39m(NDFrame\u001b[38;5;241m.\u001b[39mresample, \u001b[38;5;241m*\u001b[39m\u001b[38;5;241m*\u001b[39m_shared_doc_kwargs)  \u001b[38;5;66;03m# type: ignore[has-type]\u001b[39;00m\n\u001b[1;32m   5413\u001b[0m \u001b[38;5;28;01mdef\u001b[39;00m \u001b[38;5;21mresample\u001b[39m(\n\u001b[1;32m   5414\u001b[0m     \u001b[38;5;28mself\u001b[39m,\n\u001b[0;32m   (...)\u001b[0m\n\u001b[1;32m   5426\u001b[0m     offset: TimedeltaConvertibleTypes \u001b[38;5;241m|\u001b[39m \u001b[38;5;28;01mNone\u001b[39;00m \u001b[38;5;241m=\u001b[39m \u001b[38;5;28;01mNone\u001b[39;00m,\n\u001b[1;32m   5427\u001b[0m ) \u001b[38;5;241m-\u001b[39m\u001b[38;5;241m>\u001b[39m Resampler:\n\u001b[0;32m-> 5428\u001b[0m     \u001b[38;5;28;01mreturn\u001b[39;00m \u001b[38;5;28;43msuper\u001b[39;49m\u001b[43m(\u001b[49m\u001b[43m)\u001b[49m\u001b[38;5;241;43m.\u001b[39;49m\u001b[43mresample\u001b[49m\u001b[43m(\u001b[49m\n\u001b[1;32m   5429\u001b[0m \u001b[43m        \u001b[49m\u001b[43mrule\u001b[49m\u001b[38;5;241;43m=\u001b[39;49m\u001b[43mrule\u001b[49m\u001b[43m,\u001b[49m\n\u001b[1;32m   5430\u001b[0m \u001b[43m        \u001b[49m\u001b[43maxis\u001b[49m\u001b[38;5;241;43m=\u001b[39;49m\u001b[43maxis\u001b[49m\u001b[43m,\u001b[49m\n\u001b[1;32m   5431\u001b[0m \u001b[43m        \u001b[49m\u001b[43mclosed\u001b[49m\u001b[38;5;241;43m=\u001b[39;49m\u001b[43mclosed\u001b[49m\u001b[43m,\u001b[49m\n\u001b[1;32m   5432\u001b[0m \u001b[43m        \u001b[49m\u001b[43mlabel\u001b[49m\u001b[38;5;241;43m=\u001b[39;49m\u001b[43mlabel\u001b[49m\u001b[43m,\u001b[49m\n\u001b[1;32m   5433\u001b[0m \u001b[43m        \u001b[49m\u001b[43mconvention\u001b[49m\u001b[38;5;241;43m=\u001b[39;49m\u001b[43mconvention\u001b[49m\u001b[43m,\u001b[49m\n\u001b[1;32m   5434\u001b[0m \u001b[43m        \u001b[49m\u001b[43mkind\u001b[49m\u001b[38;5;241;43m=\u001b[39;49m\u001b[43mkind\u001b[49m\u001b[43m,\u001b[49m\n\u001b[1;32m   5435\u001b[0m \u001b[43m        \u001b[49m\u001b[43mloffset\u001b[49m\u001b[38;5;241;43m=\u001b[39;49m\u001b[43mloffset\u001b[49m\u001b[43m,\u001b[49m\n\u001b[1;32m   5436\u001b[0m \u001b[43m        \u001b[49m\u001b[43mbase\u001b[49m\u001b[38;5;241;43m=\u001b[39;49m\u001b[43mbase\u001b[49m\u001b[43m,\u001b[49m\n\u001b[1;32m   5437\u001b[0m \u001b[43m        \u001b[49m\u001b[43mon\u001b[49m\u001b[38;5;241;43m=\u001b[39;49m\u001b[43mon\u001b[49m\u001b[43m,\u001b[49m\n\u001b[1;32m   5438\u001b[0m \u001b[43m        \u001b[49m\u001b[43mlevel\u001b[49m\u001b[38;5;241;43m=\u001b[39;49m\u001b[43mlevel\u001b[49m\u001b[43m,\u001b[49m\n\u001b[1;32m   5439\u001b[0m \u001b[43m        \u001b[49m\u001b[43morigin\u001b[49m\u001b[38;5;241;43m=\u001b[39;49m\u001b[43morigin\u001b[49m\u001b[43m,\u001b[49m\n\u001b[1;32m   5440\u001b[0m \u001b[43m        \u001b[49m\u001b[43moffset\u001b[49m\u001b[38;5;241;43m=\u001b[39;49m\u001b[43moffset\u001b[49m\u001b[43m,\u001b[49m\n\u001b[1;32m   5441\u001b[0m \u001b[43m    \u001b[49m\u001b[43m)\u001b[49m\n",
      "File \u001b[0;32m~/opt/anaconda3/lib/python3.9/site-packages/pandas/core/generic.py:8306\u001b[0m, in \u001b[0;36mNDFrame.resample\u001b[0;34m(self, rule, axis, closed, label, convention, kind, loffset, base, on, level, origin, offset)\u001b[0m\n\u001b[1;32m   8303\u001b[0m \u001b[38;5;28;01mfrom\u001b[39;00m \u001b[38;5;21;01mpandas\u001b[39;00m\u001b[38;5;21;01m.\u001b[39;00m\u001b[38;5;21;01mcore\u001b[39;00m\u001b[38;5;21;01m.\u001b[39;00m\u001b[38;5;21;01mresample\u001b[39;00m \u001b[38;5;28;01mimport\u001b[39;00m get_resampler\n\u001b[1;32m   8305\u001b[0m axis \u001b[38;5;241m=\u001b[39m \u001b[38;5;28mself\u001b[39m\u001b[38;5;241m.\u001b[39m_get_axis_number(axis)\n\u001b[0;32m-> 8306\u001b[0m \u001b[38;5;28;01mreturn\u001b[39;00m \u001b[43mget_resampler\u001b[49m\u001b[43m(\u001b[49m\n\u001b[1;32m   8307\u001b[0m \u001b[43m    \u001b[49m\u001b[38;5;28;43mself\u001b[39;49m\u001b[43m,\u001b[49m\n\u001b[1;32m   8308\u001b[0m \u001b[43m    \u001b[49m\u001b[43mfreq\u001b[49m\u001b[38;5;241;43m=\u001b[39;49m\u001b[43mrule\u001b[49m\u001b[43m,\u001b[49m\n\u001b[1;32m   8309\u001b[0m \u001b[43m    \u001b[49m\u001b[43mlabel\u001b[49m\u001b[38;5;241;43m=\u001b[39;49m\u001b[43mlabel\u001b[49m\u001b[43m,\u001b[49m\n\u001b[1;32m   8310\u001b[0m \u001b[43m    \u001b[49m\u001b[43mclosed\u001b[49m\u001b[38;5;241;43m=\u001b[39;49m\u001b[43mclosed\u001b[49m\u001b[43m,\u001b[49m\n\u001b[1;32m   8311\u001b[0m \u001b[43m    \u001b[49m\u001b[43maxis\u001b[49m\u001b[38;5;241;43m=\u001b[39;49m\u001b[43maxis\u001b[49m\u001b[43m,\u001b[49m\n\u001b[1;32m   8312\u001b[0m \u001b[43m    \u001b[49m\u001b[43mkind\u001b[49m\u001b[38;5;241;43m=\u001b[39;49m\u001b[43mkind\u001b[49m\u001b[43m,\u001b[49m\n\u001b[1;32m   8313\u001b[0m \u001b[43m    \u001b[49m\u001b[43mloffset\u001b[49m\u001b[38;5;241;43m=\u001b[39;49m\u001b[43mloffset\u001b[49m\u001b[43m,\u001b[49m\n\u001b[1;32m   8314\u001b[0m \u001b[43m    \u001b[49m\u001b[43mconvention\u001b[49m\u001b[38;5;241;43m=\u001b[39;49m\u001b[43mconvention\u001b[49m\u001b[43m,\u001b[49m\n\u001b[1;32m   8315\u001b[0m \u001b[43m    \u001b[49m\u001b[43mbase\u001b[49m\u001b[38;5;241;43m=\u001b[39;49m\u001b[43mbase\u001b[49m\u001b[43m,\u001b[49m\n\u001b[1;32m   8316\u001b[0m \u001b[43m    \u001b[49m\u001b[43mkey\u001b[49m\u001b[38;5;241;43m=\u001b[39;49m\u001b[43mon\u001b[49m\u001b[43m,\u001b[49m\n\u001b[1;32m   8317\u001b[0m \u001b[43m    \u001b[49m\u001b[43mlevel\u001b[49m\u001b[38;5;241;43m=\u001b[39;49m\u001b[43mlevel\u001b[49m\u001b[43m,\u001b[49m\n\u001b[1;32m   8318\u001b[0m \u001b[43m    \u001b[49m\u001b[43morigin\u001b[49m\u001b[38;5;241;43m=\u001b[39;49m\u001b[43morigin\u001b[49m\u001b[43m,\u001b[49m\n\u001b[1;32m   8319\u001b[0m \u001b[43m    \u001b[49m\u001b[43moffset\u001b[49m\u001b[38;5;241;43m=\u001b[39;49m\u001b[43moffset\u001b[49m\u001b[43m,\u001b[49m\n\u001b[1;32m   8320\u001b[0m \u001b[43m\u001b[49m\u001b[43m)\u001b[49m\n",
      "File \u001b[0;32m~/opt/anaconda3/lib/python3.9/site-packages/pandas/core/resample.py:1423\u001b[0m, in \u001b[0;36mget_resampler\u001b[0;34m(obj, kind, **kwds)\u001b[0m\n\u001b[1;32m   1419\u001b[0m \u001b[38;5;124;03m\"\"\"\u001b[39;00m\n\u001b[1;32m   1420\u001b[0m \u001b[38;5;124;03mCreate a TimeGrouper and return our resampler.\u001b[39;00m\n\u001b[1;32m   1421\u001b[0m \u001b[38;5;124;03m\"\"\"\u001b[39;00m\n\u001b[1;32m   1422\u001b[0m tg \u001b[38;5;241m=\u001b[39m TimeGrouper(\u001b[38;5;241m*\u001b[39m\u001b[38;5;241m*\u001b[39mkwds)\n\u001b[0;32m-> 1423\u001b[0m \u001b[38;5;28;01mreturn\u001b[39;00m \u001b[43mtg\u001b[49m\u001b[38;5;241;43m.\u001b[39;49m\u001b[43m_get_resampler\u001b[49m\u001b[43m(\u001b[49m\u001b[43mobj\u001b[49m\u001b[43m,\u001b[49m\u001b[43m \u001b[49m\u001b[43mkind\u001b[49m\u001b[38;5;241;43m=\u001b[39;49m\u001b[43mkind\u001b[49m\u001b[43m)\u001b[49m\n",
      "File \u001b[0;32m~/opt/anaconda3/lib/python3.9/site-packages/pandas/core/resample.py:1599\u001b[0m, in \u001b[0;36mTimeGrouper._get_resampler\u001b[0;34m(self, obj, kind)\u001b[0m\n\u001b[1;32m   1596\u001b[0m \u001b[38;5;28;01melif\u001b[39;00m \u001b[38;5;28misinstance\u001b[39m(ax, TimedeltaIndex):\n\u001b[1;32m   1597\u001b[0m     \u001b[38;5;28;01mreturn\u001b[39;00m TimedeltaIndexResampler(obj, groupby\u001b[38;5;241m=\u001b[39m\u001b[38;5;28mself\u001b[39m, axis\u001b[38;5;241m=\u001b[39m\u001b[38;5;28mself\u001b[39m\u001b[38;5;241m.\u001b[39maxis)\n\u001b[0;32m-> 1599\u001b[0m \u001b[38;5;28;01mraise\u001b[39;00m \u001b[38;5;167;01mTypeError\u001b[39;00m(\n\u001b[1;32m   1600\u001b[0m     \u001b[38;5;124m\"\u001b[39m\u001b[38;5;124mOnly valid with DatetimeIndex, \u001b[39m\u001b[38;5;124m\"\u001b[39m\n\u001b[1;32m   1601\u001b[0m     \u001b[38;5;124m\"\u001b[39m\u001b[38;5;124mTimedeltaIndex or PeriodIndex, \u001b[39m\u001b[38;5;124m\"\u001b[39m\n\u001b[1;32m   1602\u001b[0m     \u001b[38;5;124mf\u001b[39m\u001b[38;5;124m\"\u001b[39m\u001b[38;5;124mbut got an instance of \u001b[39m\u001b[38;5;124m'\u001b[39m\u001b[38;5;132;01m{\u001b[39;00m\u001b[38;5;28mtype\u001b[39m(ax)\u001b[38;5;241m.\u001b[39m\u001b[38;5;18m__name__\u001b[39m\u001b[38;5;132;01m}\u001b[39;00m\u001b[38;5;124m'\u001b[39m\u001b[38;5;124m\"\u001b[39m\n\u001b[1;32m   1603\u001b[0m )\n",
      "\u001b[0;31mTypeError\u001b[0m: Only valid with DatetimeIndex, TimedeltaIndex or PeriodIndex, but got an instance of 'RangeIndex'"
     ]
    }
   ],
   "source": []
  },
  {
   "cell_type": "code",
   "execution_count": null,
   "id": "10ad5585-e6df-4ab4-bfa5-8a5f137bcae0",
   "metadata": {},
   "outputs": [],
   "source": []
  }
 ],
 "metadata": {
  "kernelspec": {
   "display_name": "Python 3 (ipykernel)",
   "language": "python",
   "name": "python3"
  },
  "language_info": {
   "codemirror_mode": {
    "name": "ipython",
    "version": 3
   },
   "file_extension": ".py",
   "mimetype": "text/x-python",
   "name": "python",
   "nbconvert_exporter": "python",
   "pygments_lexer": "ipython3",
   "version": "3.9.12"
  }
 },
 "nbformat": 4,
 "nbformat_minor": 5
}
